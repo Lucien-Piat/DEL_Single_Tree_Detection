{
 "cells": [
  {
   "cell_type": "code",
   "execution_count": 52,
   "metadata": {},
   "outputs": [],
   "source": [
    "from PIL import Image\n",
    "import numpy as np\n",
    "import matplotlib.pyplot as plt\n",
    "import os\n",
    "import skimage\n",
    "from tqdm import tqdm\n",
    "\n",
    "from IPython.display import clear_output"
   ]
  },
  {
   "cell_type": "code",
   "execution_count": 53,
   "metadata": {},
   "outputs": [],
   "source": [
    "work_dir = \"./raw_data/\"\n",
    "train_data_dir = \"train_data/\"\n",
    "tile_dir = work_dir + \"tiles/\"\n",
    "mask_dir = work_dir + \"masks/\"\n",
    "\n",
    "tile_paths = sorted([tile_dir + f for f in os.listdir(tile_dir)])\n",
    "mask_paths = sorted([mask_dir + f for f in os.listdir(mask_dir)])"
   ]
  },
  {
   "cell_type": "code",
   "execution_count": 54,
   "metadata": {},
   "outputs": [],
   "source": [
    "def parse_number_str(s):\n",
    "    return ''.join(filter(str.isdigit, s))"
   ]
  },
  {
   "cell_type": "code",
   "execution_count": null,
   "metadata": {},
   "outputs": [],
   "source": [
    "from src.Segmentation import label_image\n",
    "\n",
    "os.makedirs(work_dir + \"separated_masks\", exist_ok=True)\n",
    "\n",
    "for mask_path in mask_paths:\n",
    "    mask = Image.open(mask_path)\n",
    "    mask = np.array(mask)\n",
    "\n",
    "    separated_masks = label_image(mask)\n",
    "    separated_masks = separated_masks / separated_masks.max() * 255\n",
    "    separated_masks = separated_masks.astype(np.uint8)\n",
    "    np.save(work_dir + \"separated_masks/\" + parse_number_str(mask_path), separated_masks)\n",
    "\n",
    "    # demonstration purposes\n",
    "    clear_output(wait=True)\n",
    "    plt.title(\"Original mask and separated masks\")\n",
    "    plt.axis('off')\n",
    "    plt.subplot(1, 2, 1)\n",
    "    plt.imshow(separated_masks)\n",
    "    plt.axis('off')\n",
    "    plt.subplot(1, 2, 2)\n",
    "    plt.imshow(mask)\n",
    "    plt.axis('off')\n",
    "    plt.show()\n",
    "clear_output(wait=True)"
   ]
  },
  {
   "cell_type": "markdown",
   "metadata": {},
   "source": [
    "---"
   ]
  },
  {
   "cell_type": "markdown",
   "metadata": {},
   "source": [
    "```\n",
    "<class-index> <x1> <y1> <x2> <y2> ... <xn> <yn>\n",
    "```"
   ]
  },
  {
   "cell_type": "code",
   "execution_count": 56,
   "metadata": {},
   "outputs": [
    {
     "name": "stderr",
     "output_type": "stream",
     "text": [
      "100%|██████████| 38/38 [00:18<00:00,  2.08it/s]\n"
     ]
    }
   ],
   "source": [
    "separated_mask_paths = sorted([work_dir + \"separated_masks/\" + f for f in os.listdir(work_dir + \"separated_masks\")])\n",
    "\n",
    "os.makedirs(train_data_dir + \"separated_mask_edges\", exist_ok=True)\n",
    "\n",
    "for separated_mask_path in tqdm(separated_mask_paths):\n",
    "    separated_mask = np.load(separated_mask_path)\n",
    "    \n",
    "    unique_values = np.unique(separated_mask)\n",
    "\n",
    "    yolo_input = \"\"\n",
    "    \n",
    "    for value in unique_values:\n",
    "        if value == 0: continue # background\n",
    "\n",
    "        mask = np.zeros_like(separated_mask)\n",
    "        mask[separated_mask == value] = 255\n",
    "\n",
    "        # get the bounding coordinates of the mask\n",
    "        mask_edges = np.zeros_like(mask)\n",
    "        mask_edges += mask - mask[[-1, *list(range(0, len(mask)-1))], :]\n",
    "        mask_edges += mask - mask[[*list(range(1, len(mask))), 0], :]\n",
    "        mask_edges += mask - mask[:, [-1, *list(range(0, len(mask)-1))]]\n",
    "        mask_edges += mask - mask[:, [*list(range(1, len(mask))), 0]]\n",
    "        mask_edges = mask_edges > 0\n",
    "        mask_edges = mask_edges.astype(np.uint8) * 255\n",
    "\n",
    "        x, y = np.where(mask_edges)\n",
    "        x = x.astype(str)\n",
    "        y = y.astype(str)\n",
    "        \n",
    "        yolo_input += \"0 \" + \" \".join([\" \".join(pair) for pair in zip(x, y)]) + \"\\n\"\n",
    "\n",
    "    with open(train_data_dir + \"separated_mask_edges/\" + parse_number_str(separated_mask_path) + \".txt\", \"w\") as f:\n",
    "        f.write(yolo_input)\n",
    "        f.close()"
   ]
  },
  {
   "cell_type": "markdown",
   "metadata": {},
   "source": [
    "---"
   ]
  },
  {
   "cell_type": "code",
   "execution_count": 50,
   "metadata": {},
   "outputs": [
    {
     "name": "stderr",
     "output_type": "stream",
     "text": [
      "/Users/nomomon/Desktop/Projects/DLF-Single-Tree-Detection/.venv/lib/python3.9/site-packages/urllib3/__init__.py:35: NotOpenSSLWarning: urllib3 v2 only supports OpenSSL 1.1.1+, currently the 'ssl' module is compiled with 'LibreSSL 2.8.3'. See: https://github.com/urllib3/urllib3/issues/3020\n",
      "  warnings.warn(\n"
     ]
    }
   ],
   "source": [
    "from ultralytics import YOLO\n",
    "\n",
    "model = YOLO('model/raw_YOLOv8n_segmentation.pt') "
   ]
  },
  {
   "cell_type": "code",
   "execution_count": null,
   "metadata": {},
   "outputs": [],
   "source": []
  }
 ],
 "metadata": {
  "kernelspec": {
   "display_name": ".venv",
   "language": "python",
   "name": "python3"
  },
  "language_info": {
   "codemirror_mode": {
    "name": "ipython",
    "version": 3
   },
   "file_extension": ".py",
   "mimetype": "text/x-python",
   "name": "python",
   "nbconvert_exporter": "python",
   "pygments_lexer": "ipython3",
   "version": "3.9.6"
  }
 },
 "nbformat": 4,
 "nbformat_minor": 2
}
