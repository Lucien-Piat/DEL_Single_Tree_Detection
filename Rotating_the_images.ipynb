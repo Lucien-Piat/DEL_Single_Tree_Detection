{
  "nbformat": 4,
  "nbformat_minor": 0,
  "metadata": {
    "colab": {
      "provenance": [],
      "authorship_tag": "ABX9TyMQIIEGzB9zdQTsk4m9TCnn",
      "include_colab_link": true
    },
    "kernelspec": {
      "name": "python3",
      "display_name": "Python 3"
    },
    "language_info": {
      "name": "python"
    }
  },
  "cells": [
    {
      "cell_type": "markdown",
      "metadata": {
        "id": "view-in-github",
        "colab_type": "text"
      },
      "source": [
        "<a href=\"https://colab.research.google.com/github/Lucien-Piat/DEL_Single_Tree_Detection/blob/main/Rotating_the_images.ipynb\" target=\"_parent\"><img src=\"https://colab.research.google.com/assets/colab-badge.svg\" alt=\"Open In Colab\"/></a>"
      ]
    },
    {
      "cell_type": "markdown",
      "source": [
        "# Script to rotate all the images and flip them"
      ],
      "metadata": {
        "id": "wlic3O9LUZef"
      }
    },
    {
      "cell_type": "markdown",
      "source": [
        "Import all packages"
      ],
      "metadata": {
        "id": "rOb9ll1Gl711"
      }
    },
    {
      "cell_type": "code",
      "execution_count": 1,
      "metadata": {
        "id": "687Xw451UVFV"
      },
      "outputs": [],
      "source": [
        "# -*- coding: utf-8 -*-\n",
        "\"\"\"\n",
        "Created on Tue Mar 19 16:45:55 2024\n",
        "\n",
        "@author: Lucien\n",
        "\"\"\"\n",
        "import os\n",
        "from skimage import io, transform, exposure\n",
        "from os import walk\n",
        "import matplotlib.pyplot as plt\n",
        "import numpy as np\n",
        "import warnings"
      ]
    },
    {
      "cell_type": "markdown",
      "source": [
        "Create several functions"
      ],
      "metadata": {
        "id": "IKXl6n0Ql_sq"
      }
    },
    {
      "cell_type": "code",
      "source": [
        "def get_image_paths(directory):\n",
        "    '''\n",
        "    Get list of files in directory.\n",
        "    '''\n",
        "    try:\n",
        "        files = []\n",
        "        for (dirpath, dirnames, filenames) in os.walk(directory):\n",
        "            files.extend(filenames)\n",
        "        return files\n",
        "    except FileNotFoundError:\n",
        "        print(\"Directory not found.\")\n",
        "        return []\n",
        "\n",
        "def load_image(input_folder, image_path):\n",
        "    '''\n",
        "    Load image from path.\n",
        "    '''\n",
        "    try:\n",
        "        image = io.imread(os.path.join(input_folder, image_path))\n",
        "        return image\n",
        "    except FileNotFoundError:\n",
        "        print(\"Image not found\")\n",
        "        return None\n",
        "\n",
        "def rotate_image(image, angle):\n",
        "    return transform.rotate(image, angle, resize=False)\n",
        "\n",
        "def generate_all_angles(image, image_name, flip_image=False):\n",
        "    '''\n",
        "    Generate rotated images.\n",
        "    '''\n",
        "    angles = [90, 180, 270]\n",
        "    images_list = [image]\n",
        "    names_list = [image_name.split('.')[0] + '_0.tif']\n",
        "\n",
        "    for i in angles:\n",
        "      images_list.append(rotate_image(image, i))\n",
        "      names_list.append(image_name.split('.')[0] + '_' + str(i) + '.tif')\n",
        "\n",
        "    if flip_image:\n",
        "      for i in range(4):\n",
        "        images_list.append(np.fliplr(images_list[i]))\n",
        "        names_list.append(names_list[i].split('.')[0] + '_f.tif')\n",
        "\n",
        "    return images_list, names_list\n",
        "\n",
        "\n",
        "def save_images(output_folder, names_list, images_list):\n",
        "    '''\n",
        "    Save images.\n",
        "    '''\n",
        "    try:\n",
        "      for name, image in zip(names_list, images_list):\n",
        "        with warnings.catch_warnings():\n",
        "            warnings.simplefilter(\"ignore\")\n",
        "            io.imsave(os.path.join(output_folder, name), image)\n",
        "    except Exception as e:\n",
        "        print(\"Error saving images\")"
      ],
      "metadata": {
        "id": "B5RpU3q_gd6k"
      },
      "execution_count": 2,
      "outputs": []
    },
    {
      "cell_type": "code",
      "source": [
        "input_folder = 'input'\n",
        "outpout_folder = 'output'\n",
        "\n",
        "paths = get_image_paths(input_folder)\n",
        "\n",
        "for i in paths :\n",
        "  image = load_image(input_folder, i)\n",
        "\n",
        "  images_list, names_list = generate_all_angles(image, i, True)\n",
        "\n",
        "  save_images(outpout_folder, names_list, images_list)"
      ],
      "metadata": {
        "id": "71Icm8sdfB-N"
      },
      "execution_count": 3,
      "outputs": []
    },
    {
      "cell_type": "code",
      "source": [
        "!printf \"Started with %d files, ended with %d files\\n\" $(ls -1 input | wc -l) $(ls -1 output | wc -l)"
      ],
      "metadata": {
        "colab": {
          "base_uri": "https://localhost:8080/"
        },
        "id": "cF6uTn1FpGgl",
        "outputId": "c388a8ef-32eb-4c38-f889-08c9f6a0ca65"
      },
      "execution_count": 4,
      "outputs": [
        {
          "output_type": "stream",
          "name": "stdout",
          "text": [
            "Started with 6 files, ended with 48 files\n"
          ]
        }
      ]
    }
  ]
}